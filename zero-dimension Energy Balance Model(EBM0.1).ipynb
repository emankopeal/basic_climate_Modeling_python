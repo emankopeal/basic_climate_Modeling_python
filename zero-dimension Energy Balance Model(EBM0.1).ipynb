{
 "cells": [
  {
   "cell_type": "markdown",
   "id": "bd271869",
   "metadata": {},
   "source": [
    "## Climate Physics and Climate Dynamics  \n",
    "\n",
    "\n"
   ]
  },
  {
   "cell_type": "markdown",
   "id": "b2efe903",
   "metadata": {},
   "source": [
    "### Climate Modeling "
   ]
  },
  {
   "cell_type": "markdown",
   "id": "528d585d",
   "metadata": {},
   "source": [
    "  ###                  1 .     Radiation and Energy Balance Models\n",
    "  \n",
    "These small Notbook aim to build a zero-dimension Energy Balance Model(EBM0.1), interpret the result from these models, and show the power and limitation of these models   "
   ]
  },
  {
   "cell_type": "markdown",
   "id": "0e4af24a",
   "metadata": {},
   "source": [
    "is a zero-dimension Energy Balance Model(EBM0.1) following :\n",
    "\n",
    "\n",
    "                         S(1 − α) = 4εσ T^4 \n",
    "                                                 \n",
    "\n"
   ]
  },
  {
   "cell_type": "markdown",
   "id": "b83035a5",
   "metadata": {},
   "source": [
    "where s =  solar constant\n",
    "let  $ S = 1372 W m^2 $\n",
    "\n",
    "\n",
    "$\\alpha$  is  planetary albedo (0-1)\n",
    "let $\\alpha = 0.3$\n",
    "ε represents the infrared transmissivity (ε = 0.61)\n",
    " \n",
    "σ is the Stefan-Boltzmann\n",
    "constant (σ = 5.67 × $10^{-8} W m^{-2} K^{-4}$), which relates temperature to radiant emission\n",
    "T is the global mean surface temperature of the earth system[1]"
   ]
  },
  {
   "cell_type": "code",
   "execution_count": 2,
   "id": "34fedd80",
   "metadata": {},
   "outputs": [],
   "source": [
    "# important library\n",
    "import math\n",
    "import matplotlib.pyplot as plt\n",
    "import numpy as np"
   ]
  },
  {
   "cell_type": "code",
   "execution_count": 3,
   "id": "a657bff9",
   "metadata": {},
   "outputs": [],
   "source": [
    "#Constant\n",
    "s = 1372 #solar constant\n",
    "a = 0.3 #𝛼  albedo\n",
    "e = 0.61 #ε  emissitivity\n",
    "c = 5.67 * 10**-8  #stefan-Boltzmann constant"
   ]
  },
  {
   "cell_type": "code",
   "execution_count": 5,
   "id": "d22f20ef",
   "metadata": {},
   "outputs": [
    {
     "name": "stdout",
     "output_type": "stream",
     "text": [
      "the global mean surface temperature of the earth system  =  15.498840006518606 c\n"
     ]
    }
   ],
   "source": [
    "#a zero-dimension Energy Balance Model\n",
    "T=(s*(1-a)/(4*e*c))**(0.25)\n",
    "\n",
    "print(\"the global mean surface temperature of the earth system  = \",T-273.15 ,\"c\")\n"
   ]
  },
  {
   "cell_type": "markdown",
   "id": "2245686f",
   "metadata": {},
   "source": [
    "## 1.1\n",
    " sensitivity of the earth surface temperature (T) and the \n",
    "chang in Solar constant (S)"
   ]
  },
  {
   "cell_type": "code",
   "execution_count": 6,
   "id": "9168cccf",
   "metadata": {},
   "outputs": [
    {
     "data": {
      "text/plain": [
       "Text(0, 0.5, 'earth surface temperature (T) $c^0$')"
      ]
     },
     "execution_count": 6,
     "metadata": {},
     "output_type": "execute_result"
    },
    {
     "data": {
      "image/png": "[encoded data removed]",
      "text/plain": [
       "<Figure size 432x288 with 1 Axes>"
      ]
     },
     "metadata": {
      "needs_background": "light"
     },
     "output_type": "display_data"
    }
   ],
   "source": [
    "S_l = np.arange(1000,1380,10) #  diffrent value of Solar constant\n",
    "T_l=(S_l*(1-a)/(4*e*c))**(0.25) - 273.15 # Model\n",
    "\n",
    "plt.plot(S_l,T_l)\n",
    "plt.xlabel(\"Solar constant (S)  W $m^2$\")\n",
    "plt.ylabel(\"earth surface temperature (T) $c^0$\")"
   ]
  },
  {
   "cell_type": "markdown",
   "id": "ccb39509",
   "metadata": {},
   "source": [
    "##### An increase in the solar constant leads to an increase in the earth's surface temperature and An decrease in the solar constant leads to decrease in the earth's surface  and solar constant change (with small value ) due to Earth's  elliptical orbit around the Sun."
   ]
  },
  {
   "cell_type": "markdown",
   "id": "50a0fb04",
   "metadata": {},
   "source": [
    "## 1.2\n",
    "sensitivity of the earth surface temperature (T) to\n",
    "changes albedo "
   ]
  },
  {
   "cell_type": "code",
   "execution_count": 7,
   "id": "81cddfa7",
   "metadata": {},
   "outputs": [
    {
     "data": {
      "text/plain": [
       "Text(0, 0.5, 'earth surface temperature (T) $c^0$')"
      ]
     },
     "execution_count": 7,
     "metadata": {},
     "output_type": "execute_result"
    },
    {
     "data": {
      "image/png": "[encoded data removed]",
      "text/plain": [
       "<Figure size 432x288 with 1 Axes>"
      ]
     },
     "metadata": {
      "needs_background": "light"
     },
     "output_type": "display_data"
    }
   ],
   "source": [
    "a_l = np.arange(0,1,0.1) #  diffrent value of albedo\n",
    "T_l=(s*(1-a_l)/(4*e*c))**(0.25) - 273.15\n",
    "\n",
    "plt.plot(a_l,T_l)\n",
    "plt.xlabel(\" planetary albedo\")\n",
    "plt.ylabel(\"earth surface temperature (T) $c^0$\")\n"
   ]
  },
  {
   "cell_type": "markdown",
   "id": "17465f2a",
   "metadata": {},
   "source": [
    "##### An increase in the planetary albedo  leads to an decrease in the earth's surface temperature and An decrease in the planetary albedo leads to increase in the earth's surface ( cause global warming)"
   ]
  },
  {
   "cell_type": "markdown",
   "id": "fb96fed8",
   "metadata": {},
   "source": [
    "## 1.3\n",
    "sensitivity of the earth surface temperature (T) to\n",
    "changes emissivity  "
   ]
  },
  {
   "cell_type": "code",
   "execution_count": 8,
   "id": "c2b6c99d",
   "metadata": {},
   "outputs": [
    {
     "data": {
      "text/plain": [
       "Text(0, 0.5, 'earth surface temperature (T) $c^0$')"
      ]
     },
     "execution_count": 8,
     "metadata": {},
     "output_type": "execute_result"
    },
    {
     "data": {
      "image/png": "[encoded data removed]",
      "text/plain": [
       "<Figure size 432x288 with 1 Axes>"
      ]
     },
     "metadata": {
      "needs_background": "light"
     },
     "output_type": "display_data"
    }
   ],
   "source": [
    "e_l = np.arange(0.1,1,0.1) #  diffrent value of emissivity\n",
    "T_l=(s*(1-a)/(4*e_l*c))**(0.25) - 273.15\n",
    "\n",
    "plt.plot(e_l,T_l)\n",
    "plt.xlabel(\" emissivity $\\epsilon$\")\n",
    "plt.ylabel(\"earth surface temperature (T) $c^0$\")\n"
   ]
  },
  {
   "cell_type": "markdown",
   "id": "773e6f51",
   "metadata": {},
   "source": [
    "\n",
    "\n",
    "###### An increase in the Emissivity  leads to an decrease in the earth's surface temperature and An decrease in the Emissivity leads to increase in the earth's surface and  Emissivity is inversely proportional to the concentration of GHG ,therefore  An increase in the GHG   leads to an increase in the earth's surface temperature\n"
   ]
  },
  {
   "cell_type": "markdown",
   "id": "7dccf95a",
   "metadata": {},
   "source": [
    "### 2\n",
    "What is the percentage change in S,$\\alpha$\n",
    "and  $\\epsilon$ (each) that can make the surface temperature to reach \n",
    "\n",
    "(i) the freezing point, $0^o$C\n",
    "\n",
    "(ii) boiling point, $100^o$C"
   ]
  },
  {
   "cell_type": "markdown",
   "id": "df748565",
   "metadata": {},
   "source": [
    "#### 2.1"
   ]
  },
  {
   "cell_type": "code",
   "execution_count": 9,
   "id": "e1fcd906",
   "metadata": {},
   "outputs": [
    {
     "data": {
      "text/plain": [
       "(0.0, 100.0)"
      ]
     },
     "execution_count": 9,
     "metadata": {},
     "output_type": "execute_result"
    },
    {
     "data": {
      "image/png": "[encoded data removed]",
      "text/plain": [
       "<Figure size 432x288 with 1 Axes>"
      ]
     },
     "metadata": {
      "needs_background": "light"
     },
     "output_type": "display_data"
    }
   ],
   "source": [
    "plt.plot(e_l,T_l)\n",
    "plt.ylim(0,100)"
   ]
  },
  {
   "cell_type": "markdown",
   "id": "4dc9a7c4",
   "metadata": {},
   "source": [
    "at $\\epsilon = 0.26 $ surface temperature reach boiling point $100^o$C $\\frac{0.26-0.61}{0.61} 100\\% = -57.37\\%$ \n",
    "\n",
    "if $\\epsilon$ decreas by $57.37\\%$  the surface temperature will reach boiling point\n",
    "\n",
    "\n",
    "at $\\epsilon = 0.77 $ surface temperature reach freezing point $100^o$C $\\frac{0.77-0.61}{0.61} 100\\% = 26.22%$ \n",
    "\n",
    "if $\\epsilon$ increas by $26.22\\%$  the surface temperature will reach freezing point"
   ]
  },
  {
   "cell_type": "code",
   "execution_count": 8,
   "id": "f51e1be4",
   "metadata": {},
   "outputs": [
    {
     "data": {
      "text/plain": [
       "(0.0, 100.0)"
      ]
     },
     "execution_count": 8,
     "metadata": {},
     "output_type": "execute_result"
    },
    {
     "data": {
      "image/png": "[encoded data removed]",
      "text/plain": [
       "<Figure size 432x288 with 1 Axes>"
      ]
     },
     "metadata": {
      "needs_background": "light"
     },
     "output_type": "display_data"
    }
   ],
   "source": [
    "a_l = np.arange(0,1,0.1) #  diffrent value of albedo\n",
    "T_l=(s*(1-a_l)/(4*e*c))**(0.25) - 273.15\n",
    "\n",
    "plt.plot(a_l,T_l)\n",
    "plt.xlabel(\" planetary albedo\")\n",
    "plt.ylabel(\"earth surface temperature (T) $c^0$\")\n",
    "plt.ylim(0,100)"
   ]
  },
  {
   "cell_type": "markdown",
   "id": "996e728a",
   "metadata": {},
   "source": [
    "### 2.2"
   ]
  },
  {
   "cell_type": "markdown",
   "id": "4d98150a",
   "metadata": {},
   "source": [
    "\n",
    "at $\\alpha = 0.42 $ surface temperature reach freezing point $100^o$C $\\frac{0.42-0.3}{0.0.3} 100\\% = 40\\%$ \n",
    "\n",
    "if $\\alpha$ increas by $40\\%$  the surface temperature will reach freezing point"
   ]
  },
  {
   "cell_type": "code",
   "execution_count": 10,
   "id": "0339c747",
   "metadata": {
    "scrolled": true
   },
   "outputs": [
    {
     "data": {
      "text/plain": [
       "(0.0, 100.0)"
      ]
     },
     "execution_count": 10,
     "metadata": {},
     "output_type": "execute_result"
    },
    {
     "data": {
      "image/png": "[encoded data removed]",
      "text/plain": [
       "<Figure size 432x288 with 1 Axes>"
      ]
     },
     "metadata": {
      "needs_background": "light"
     },
     "output_type": "display_data"
    }
   ],
   "source": [
    "S_l = np.arange(100,4000,10) #  diffrent value of Solar constant\n",
    "T_l=(S_l*(1-a)/(4*e*c))**(0.25) - 273.15\n",
    "\n",
    "plt.plot(S_l,T_l)\n",
    "plt.xlabel(\"Solar constant (S)  W $m^2$\")\n",
    "plt.ylabel(\"earth surface temperature (T) $c^0$\")\n",
    "plt.ylim(0,100)"
   ]
  },
  {
   "cell_type": "markdown",
   "id": "e4df820f",
   "metadata": {},
   "source": [
    "### 2.3"
   ]
  },
  {
   "cell_type": "markdown",
   "id": "efd83941",
   "metadata": {},
   "source": [
    "at $S =3700  $ surface temperature reach boiling point $100^o$C $\\frac{3700-1372}{1372} 100\\% = 169.67\\%$ \n",
    "\n",
    "if $s$ increas by $169.67\\%$  the surface temperature will reach boiling point\n",
    "\n",
    "\n",
    "at $s = 1100 $ surface temperature reach freezing point $100^o$C $\\frac{1100-1372}{1372} 100\\% = -19.82%$ \n",
    "\n",
    "if $s$ decreas by $19.82\\%$  the surface temperature will reach freezing point"
   ]
  },
  {
   "cell_type": "markdown",
   "id": "d3114339",
   "metadata": {},
   "source": [
    "### (3)  limitations of using this model for climate change study."
   ]
  },
  {
   "cell_type": "markdown",
   "id": "7bb17178",
   "metadata": {},
   "source": [
    "1-these model assume idealized balance between income energy and outcome which is not what happen in real world ,and it only takes into account short wave and long wave radiation does not take into account another process like convection, latent heating, and the effect of large-scale motion.\n",
    "\n",
    "\n",
    "\n",
    "2- in these modal  there is one value of Temperature for   climet's system  and assume these value is globe temperature which is not realistic in climate's system\n",
    "\n",
    "3 - inability to reproduce important atmospheric phenomena\n",
    "\n",
    "4- in these model increasing or decreasing in Temperature is depends only in the amount of energy that absorb regardless of heat capacity\n"
   ]
  },
  {
   "cell_type": "markdown",
   "id": "5f184aea",
   "metadata": {},
   "source": [
    "## References\n"
   ]
  },
  {
   "cell_type": "code",
   "execution_count": null,
   "id": "18425ed1",
   "metadata": {},
   "outputs": [],
   "source": []
  }
 ],
 "metadata": {
  "kernelspec": {
   "display_name": "Python 3",
   "language": "python",
   "name": "python3"
  },
  "language_info": {
   "codemirror_mode": {
    "name": "ipython",
    "version": 3
   },
   "file_extension": ".py",
   "mimetype": "text/x-python",
   "name": "python",
   "nbconvert_exporter": "python",
   "pygments_lexer": "ipython3",
   "version": "3.8.8"
  }
 },
 "nbformat": 4,
 "nbformat_minor": 5
}
