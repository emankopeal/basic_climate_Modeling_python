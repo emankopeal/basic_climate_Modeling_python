{
 "cells": [
  {
   "cell_type": "markdown",
   "id": "bd271869",
   "metadata": {},
   "source": [
    "##                         Climate Physics and Climate Dynamics Assignment 1 (2022/23)\n",
    "\n",
    "###                                     Climate Modeling \n"
   ]
  },
  {
   "cell_type": "markdown",
   "id": "528d585d",
   "metadata": {},
   "source": [
    "  ###                        Radiation and Energy Balance Models\n",
    "  \n",
    "  "
   ]
  },
  {
   "cell_type": "markdown",
   "id": "4dfbd56d",
   "metadata": {},
   "source": [
    "These small Notbook aim to build a zero-dimension Energy Balance version 2 (EBM0.2), interpret the result from these models, and show the power and limitation of these models   "
   ]
  },
  {
   "cell_type": "markdown",
   "id": "732ac692",
   "metadata": {},
   "source": [
    "\n",
    " a zero-dimension Energy Balance model, version 2 (EBM0.2)\n",
    "$$ Cp\\frac{∂T}{∂t}= S(1 − α) − 4εσT^4$$\n",
    "\n",
    "\n",
    "where Cp is the specific heat capacity of the earth system (Cp = $1.05x10^{23} JK^{-1}$)\n",
    "\n"
   ]
  },
  {
   "cell_type": "code",
   "execution_count": 17,
   "id": "3f2e5d0f",
   "metadata": {},
   "outputs": [],
   "source": [
    "# important library\n",
    "import math\n",
    "import matplotlib.pyplot as plt\n",
    "import numpy as np"
   ]
  },
  {
   "cell_type": "code",
   "execution_count": 18,
   "id": "048f1990",
   "metadata": {},
   "outputs": [],
   "source": [
    "#Constant\n",
    "s = 1372 #solar constant\n",
    "a = 0.3 #𝛼  albedo\n",
    "e = 0.61 #ε  emissitivity\n",
    "c = 5.67 * 10**-8  #stefan-Boltzmann constant\n",
    "cp = 1.05*10**(23) # heat capacity of the earth system \n"
   ]
  },
  {
   "cell_type": "code",
   "execution_count": 19,
   "id": "e2e5b821",
   "metadata": {},
   "outputs": [
    {
     "data": {
      "text/plain": [
       "Text(0, 0.5, 'earth surface temperature (T) $c^0$')"
      ]
     },
     "execution_count": 19,
     "metadata": {},
     "output_type": "execute_result"
    },
    {
     "data": {
      "image/png": "[encoded data removed]",
      "text/plain": [
       "<Figure size 432x288 with 1 Axes>"
      ]
     },
     "metadata": {
      "needs_background": "light"
     },
     "output_type": "display_data"
    }
   ],
   "source": [
    "Tn=273.15\n",
    "dt=1.0*10**21\n",
    "######\n",
    "t=[]\n",
    "temp=[]\n",
    "time=0\n",
    "for i in range(400):\n",
    "    time=time+dt\n",
    "    F= (s*(1-a)-(4*c*e*Tn**4))/cp\n",
    "    Tf=Tn+F*dt\n",
    "    t.append(time)\n",
    "    temp.append(Tn)\n",
    "    Tn=Tf\n",
    "\n",
    "plt.plot(t,np.array(temp)-273.15)\n",
    "plt.xlabel(\"Time $\")\n",
    "plt.ylabel(\"earth surface temperature (T) $c^0$\")\n"
   ]
  },
  {
   "cell_type": "markdown",
   "id": "2d8d6831",
   "metadata": {},
   "source": [
    "At the equilibrium point  Show that EBM0.2 gives the similar results with EBM0.1 at the equilibrium point.\n",
    "\n",
    "the global mean surface temperature of the earth system in EBM0.1 =  15.498840006518606 , and at the equilibrium point(from graph) is $\\cong$ 15.4"
   ]
  },
  {
   "cell_type": "markdown",
   "id": "46de2576",
   "metadata": {},
   "source": [
    "## 2\n",
    "how changes in Cp affect the equilibrium time of\n",
    "the model. Does it affect the values of the equilibrium temperature?\n"
   ]
  },
  {
   "cell_type": "code",
   "execution_count": 20,
   "id": "38a90540",
   "metadata": {},
   "outputs": [],
   "source": [
    "cp2 = 2.0*10**(23)\n",
    "\n",
    "Tn=273.15\n",
    "dt=1.0*10**21\n",
    "######\n",
    "t2=[]\n",
    "temp2=[]\n",
    "time=0\n",
    "for i in range(400):\n",
    "    time=time+dt\n",
    "    F= (s*(1-a)-(4*c*e*Tn**4))/cp2\n",
    "    Tf=Tn+F*dt\n",
    "    Tn=Tf\n",
    "    #print(time,Tn)\n",
    "    t2.append(time)\n",
    "    temp2.append(Tn)"
   ]
  },
  {
   "cell_type": "code",
   "execution_count": 21,
   "id": "c49f74e5",
   "metadata": {},
   "outputs": [
    {
     "data": {
      "image/png": "[encoded data removed]",
      "text/plain": [
       "<Figure size 432x288 with 1 Axes>"
      ]
     },
     "metadata": {
      "needs_background": "light"
     },
     "output_type": "display_data"
    }
   ],
   "source": [
    "plt.plot(t2,np.array(temp2)-273.15,'red')# cp=2.0 + 20 initial condition of temperature if the model\n",
    "# is well it correct itself\n",
    "plt.plot(t,np.array(temp)-273.15,'yellow') #cp=1.05 -20\n",
    "plt.xlabel(\"Time \")\n",
    "plt.ylabel(\"earth surface temperature (T) $c^0$\")\n",
    "\n",
    "plt.show()"
   ]
  },
  {
   "cell_type": "markdown",
   "id": "b2421c5c",
   "metadata": {},
   "source": [
    "Changing in value of CP(heat capacity) does not affect in values of the equilibrium temperature but change the time required to reach to the equilibrium temperature (when cp increasing,lead t  increased time  required to reach to the equilibrium temperature )"
   ]
  },
  {
   "cell_type": "markdown",
   "id": "272aa8cb",
   "metadata": {},
   "source": [
    "## 3\n",
    "check if the equilibrium temperature depends on initial\n",
    "temperature ($T_{init}$).\n"
   ]
  },
  {
   "cell_type": "code",
   "execution_count": 22,
   "id": "5314fd9c",
   "metadata": {},
   "outputs": [],
   "source": [
    "## \n",
    "\n",
    "Tn1=273.15+20\n",
    "dt=1.0*10**21\n",
    "######\n",
    "t1=[]\n",
    "temp1=[]\n",
    "time=0\n",
    "for i in range(400):\n",
    "    time=time+dt\n",
    "    F= (s*(1-a)-(4*c*e*Tn1**4))/cp\n",
    "    Tf=Tn1+F*dt\n",
    "    t1.append(time)\n",
    "    temp1.append(Tn1)\n",
    "    Tn1=Tf\n",
    "    \n",
    "    \n",
    "#at T=15\n",
    "\n",
    "Tn2=273.15+5\n",
    "dt=1.0*10**21\n",
    "t2=[]\n",
    "temp2=[]\n",
    "time=0\n",
    "for i in range(400):\n",
    "    time=time+dt\n",
    "    F= (s*(1-a)-(4*c*e*Tn2**4))/cp\n",
    "    Tf=Tn2+F*dt\n",
    "    t2.append(time)\n",
    "    temp2.append(Tn2)\n",
    "    Tn2=Tf\n",
    "    \n",
    "#at Tn = -15\n",
    "\n",
    "\n",
    "Tn3=273.15-5\n",
    "dt=1.0*10**21\n",
    "t3=[]\n",
    "temp3=[]\n",
    "time=0\n",
    "for i in range(400):\n",
    "    time=time+dt\n",
    "    F= (s*(1-a)-(4*c*e*Tn3**4))/cp\n",
    "    Tf=Tn3+F*dt\n",
    "    t3.append(time)\n",
    "    temp3.append(Tn3)\n",
    "    Tn3=Tf\n",
    "    \n",
    "    \n",
    "#at Tn = -20\n",
    "\n",
    "\n",
    "Tn4=273.15-20\n",
    "dt=1.0*10**21\n",
    "t4=[]\n",
    "temp4=[]\n",
    "time=0\n",
    "for i in range(400):\n",
    "    time=time+dt\n",
    "    F= (s*(1-a)-(4*c*e*Tn4**4))/cp\n",
    "    Tf=Tn4+F*dt\n",
    "    t4.append(time)\n",
    "    temp4.append(Tn4)\n",
    "    Tn4=Tf\n",
    "\n",
    "\n",
    "\n"
   ]
  },
  {
   "cell_type": "code",
   "execution_count": 23,
   "id": "5a0eb86f",
   "metadata": {},
   "outputs": [
    {
     "data": {
      "image/png": "[encoded data removed]",
      "text/plain": [
       "<Figure size 432x288 with 1 Axes>"
      ]
     },
     "metadata": {
      "needs_background": "light"
     },
     "output_type": "display_data"
    }
   ],
   "source": [
    "plt.plot(t2,np.array(temp2)-273.15,'red')# 5\n",
    "plt.plot(t1,np.array(temp1)-273.15,'yellow') #20\n",
    "\n",
    "plt.plot(t3,np.array(temp3)-273.15,'blue') #-5\n",
    "plt.plot(t4,np.array(temp4)-273.15,'green') #-20\n",
    "\n",
    "plt.xlabel(\"Time \")\n",
    "plt.ylabel(\"earth surface temperature (T) $c^0$\")\n",
    "\n",
    "plt.show()"
   ]
  },
  {
   "cell_type": "markdown",
   "id": "5baf1f25",
   "metadata": {},
   "source": [
    "the equilibrium temperature does not depends on initial temperature  "
   ]
  },
  {
   "cell_type": "code",
   "execution_count": 24,
   "id": "139bbe70",
   "metadata": {},
   "outputs": [
    {
     "data": {
      "image/png": "[encoded data removed]",
      "text/plain": [
       "<Figure size 432x288 with 1 Axes>"
      ]
     },
     "metadata": {
      "needs_background": "light"
     },
     "output_type": "display_data"
    }
   ],
   "source": [
    "## another way (by use for loop)\n",
    "\n",
    "for i in range(-20,20,5):\n",
    "    Tn2 = i+273.15\n",
    "    dt=1.0*10**21\n",
    "    t2=[]\n",
    "    temp2=[]\n",
    "    time=0\n",
    "    for i in range(400):\n",
    "        time=time+dt\n",
    "        F= (s*(1-a)-(4*c*e*Tn2**4))/cp\n",
    "        Tf=Tn2+F*dt\n",
    "        t2.append(time)\n",
    "        temp2.append(Tn2)\n",
    "        Tn2=Tf\n",
    "        plt.plot(t2,np.array(temp2)-273.15)\n",
    "    "
   ]
  },
  {
   "cell_type": "markdown",
   "id": "971aa3d8",
   "metadata": {},
   "source": [
    "the equilibrium temperature does not depends on initial temperature  "
   ]
  },
  {
   "cell_type": "markdown",
   "id": "f0f4fe15",
   "metadata": {},
   "source": [
    "## 4\n",
    "(4) Ice-albedo feedback effect implies that albedo ($\\alpha$\n",
    ") is a function of temperature;\n",
    "such that, $\\alpha$\n",
    "= 0.3 for water (T ≥ -4.0C) and\n",
    "= 0.7 for ice (T < -4.0C). Run the model to check the influence of ice-albedo feedback on your results for question (3) above. Discuss the practical implications of the difference on the earth climate system"
   ]
  },
  {
   "cell_type": "code",
   "execution_count": 25,
   "id": "c33818f0",
   "metadata": {},
   "outputs": [
    {
     "data": {
      "text/plain": [
       "Text(0, 0.5, 'earth surface temperature (T) $c^0$')"
      ]
     },
     "execution_count": 25,
     "metadata": {},
     "output_type": "execute_result"
    },
    {
     "data": {
      "image/png": "[encoded data removed]",
      "text/plain": [
       "<Figure size 432x288 with 1 Axes>"
      ]
     },
     "metadata": {
      "needs_background": "light"
     },
     "output_type": "display_data"
    }
   ],
   "source": [
    "cp = 1.05*10**(23)\n",
    "\n",
    "Tn=273.15\n",
    "dt=1.0*10**21\n",
    "######\n",
    "t=[]\n",
    "temp=[]\n",
    "time=0\n",
    "for i in range(400):\n",
    "    if i<200:          #  we use if stetment in these case to  \n",
    "                         #change the value of albedo in part of graph \n",
    "        a=0.3\n",
    "    else:\n",
    "        a=0.7\n",
    "    time=time+dt\n",
    "    F= (s*(1-a)-(4*c*e*Tn**4))/cp\n",
    "    Tf=Tn+F*dt\n",
    "    t.append(time)\n",
    "    temp.append(Tn)\n",
    "    Tn=Tf\n",
    "\n",
    "plt.plot(t,np.array(temp)-273.15)\n",
    "plt.xlabel(\"Time $\")\n",
    "plt.ylabel(\"earth surface temperature (T) $c^0$\")\n"
   ]
  },
  {
   "cell_type": "markdown",
   "id": "89266e63",
   "metadata": {},
   "source": [
    "Ice-albedo feedback effect : when the value of albedo change that lead to change in equilibrium temperature (if albedo increase equilibrium temperature decrees ) in these case if albedo reach to 0.7 equilibrium temperature = -40 that means by increase albedo earth is cooling  and by decrease albedo earth is warming"
   ]
  },
  {
   "cell_type": "markdown",
   "id": "a51f3c52",
   "metadata": {},
   "source": [
    "## 5 \n",
    " limitations of using this model for climate change study.\n",
    "\n",
    "1-these model assume idealized balance between income energy and outcome which is not what happen in real world\n",
    "\n",
    "2- in these modal  there is one value of Temperature for any latitude in climet's system regardless of longtitude and that is not realistic in climate's system\n",
    "\n",
    "3 - inability to reproduce important atmospheric phenomena\n",
    "\n",
    "4-in these model all the  earth((ocien and land)   have the same heat capacity which is not relastic "
   ]
  },
  {
   "cell_type": "markdown",
   "id": "5f184aea",
   "metadata": {},
   "source": [
    "## References\n",
    "\n",
    "\n",
    "Lecture Notes\n"
   ]
  }
 ],
 "metadata": {
  "kernelspec": {
   "display_name": "Python 3",
   "language": "python",
   "name": "python3"
  },
  "language_info": {
   "codemirror_mode": {
    "name": "ipython",
    "version": 3
   },
   "file_extension": ".py",
   "mimetype": "text/x-python",
   "name": "python",
   "nbconvert_exporter": "python",
   "pygments_lexer": "ipython3",
   "version": "3.8.8"
  }
 },
 "nbformat": 4,
 "nbformat_minor": 5
}
