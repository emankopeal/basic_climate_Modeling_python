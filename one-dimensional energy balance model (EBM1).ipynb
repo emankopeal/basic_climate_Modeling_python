{
 "cells": [
  {
   "cell_type": "markdown",
   "id": "bd271869",
   "metadata": {},
   "source": [
    "##                         Climate Physics and Climate Dynamics(2022/23)\n",
    "\n",
    "###                               \n",
    "\n"
   ]
  },
  {
   "cell_type": "markdown",
   "id": "528d585d",
   "metadata": {},
   "source": [
    "  ###                        Radiation and Energy Balance Models"
   ]
  },
  {
   "cell_type": "markdown",
   "id": "e5e99a42",
   "metadata": {},
   "source": [
    "These small Notbook aim to buildone-dimensional\n",
    "energy balance model (EBM1), interpret the result from these models, and show the power and limitation of these models   \n",
    "--------------------------------"
   ]
  },
  {
   "cell_type": "markdown",
   "id": "294984f3",
   "metadata": {},
   "source": [
    " one-dimensional\n",
    "energy balance model (EBM1) :\n",
    "\n",
    "$$ Cp\\frac{∂T_{lat}}{∂t}= S(1 − α) − 4εσT_{lat}^4 - k(T_{lat} - T_{global})$$\n"
   ]
  },
  {
   "cell_type": "code",
   "execution_count": 1,
   "id": "3de7d450",
   "metadata": {},
   "outputs": [],
   "source": [
    "# important library\n",
    "import math\n",
    "import matplotlib.pyplot as plt\n",
    "import numpy as np"
   ]
  },
  {
   "cell_type": "code",
   "execution_count": 2,
   "id": "22058774",
   "metadata": {
    "scrolled": true
   },
   "outputs": [
    {
     "data": {
      "image/png": "[encoded data removed]",
      "text/plain": [
       "<Figure size 432x288 with 1 Axes>"
      ]
     },
     "metadata": {
      "needs_background": "light"
     },
     "output_type": "display_data"
    }
   ],
   "source": [
    "#---- Set default constants\n",
    "sigma    =  5.67e-8         # Stefan-Boltman constant\n",
    "ems      =  0.6             # Emmisitivity\n",
    "tc       =  3.81            # Transport constants\n",
    "thc      =  1.05e23         # Total Heat Capacity\n",
    "dt       =  1.0e21          # dt\n",
    "nstep    =  400             # nstep\n",
    "SR       =  1370            # Solar constant\n",
    "\n",
    "sfrac  = np.zeros(18)\n",
    "albedo = np.zeros(18)\n",
    "Tlat   = np.zeros(18)\n",
    "\n",
    "# Read inputs from file zone.dat\n",
    "file1 = open(\"zone.dat\",\"r\")\n",
    "file1.readline()\n",
    "\n",
    "for i in range(18):\n",
    "    zone,sfrac[i],albedo[i],Tlat[i] = file1.readline().split()\n",
    "    Tlat[i]  = Tlat[i] + 273.14\n",
    "file1.close()\n",
    "\n",
    "# This function calculates T global\n",
    "Tgg = 0.0\n",
    "def Calculate_Tglobal(Temp,Tgg,ni):\n",
    "    Lat = np.zeros(ni)\n",
    "    wgt = np.zeros(ni)\n",
    "    Tgg = 0.0\n",
    "    swg = 0\n",
    "    cni= ni\n",
    "    pi= 3.141592\n",
    "    for i in range(ni):\n",
    "        Lat[i] = -85 + (i-1)*10\n",
    "        wgt[i] = math.cos(abs(Lat[i])*pi/180.)\n",
    "        swg   = swg + wgt[i] \n",
    "        Tgg = Tgg + Temp[i]*wgt[i]\n",
    "    Tgg = Tgg/swg\n",
    "    return Tgg\n",
    "\n",
    "TG = [] # This list will store T global for ploting later\n",
    "TL = [] # This list will store T lat at equilibrium for ploting later\n",
    "Time = [] # This list will store  the time for T global plot\n",
    "\n",
    "for j in range(500):\n",
    "    Tg = Calculate_Tglobal(Tlat,Tgg,18)\n",
    "    for i in range(18):\n",
    "        Rin     = sfrac[i]*SR*(1-albedo[i])  # Incoming Energy\n",
    "        Rout    = 4.0*ems*sigma*Tlat[i]**4   # Outgoing Enegy\n",
    "        Trans   = tc*(Tlat[i] - Tg)          # Energy Flux\n",
    "        Fn      = (Rin - Rout - Trans)/thc   # Tendency\n",
    "        Tf      = Tlat[i] + Fn*dt               \n",
    "        Tlat[i] = Tf\n",
    "        if(j==499):\n",
    "            TL.append(Tlat[i]-273.14)\n",
    "    TG.append(Tg-273.14)\n",
    "    Time.append(j*dt)\n",
    "\n",
    "plt.plot(Time,TG)\n",
    "plt.show()\n",
    "zone = [-90,-80,-70,-60,-50,-40,-30,-20,-10,10,20,30,40,50,60,70,80,90]\n"
   ]
  },
  {
   "cell_type": "code",
   "execution_count": 3,
   "id": "22d6e9ce",
   "metadata": {},
   "outputs": [
    {
     "data": {
      "text/plain": [
       "[<matplotlib.lines.Line2D at 0x1cd7f699130>]"
      ]
     },
     "execution_count": 3,
     "metadata": {},
     "output_type": "execute_result"
    },
    {
     "data": {
      "image/png": "[encoded data removed]",
      "text/plain": [
       "<Figure size 432x288 with 1 Axes>"
      ]
     },
     "metadata": {
      "needs_background": "light"
     },
     "output_type": "display_data"
    }
   ],
   "source": [
    "plt.plot(zone,TL)\n"
   ]
  },
  {
   "cell_type": "markdown",
   "id": "57cd6aa2",
   "metadata": {},
   "source": [
    "## 1\n",
    "\n",
    "#### sensitivity of the model to heat transfer coefficient"
   ]
  },
  {
   "cell_type": "code",
   "execution_count": 5,
   "id": "bb639998",
   "metadata": {},
   "outputs": [
    {
     "data": {
      "image/png": "[encoded data removed]",
      "text/plain": [
       "<Figure size 432x288 with 1 Axes>"
      ]
     },
     "metadata": {
      "needs_background": "light"
     },
     "output_type": "display_data"
    }
   ],
   "source": [
    "tc1 = 2  # different value for transfer coefficient\n",
    "\n",
    "\n",
    "sfrac1  = np.zeros(18)\n",
    "albedo1 = np.zeros(18)\n",
    "Tlat1   = np.zeros(18)\n",
    "\n",
    "# Read inputs from file zone.dat\n",
    "file2 = open(\"zone.dat\",\"r\")\n",
    "file2.readline()\n",
    "\n",
    "for i in range(18):\n",
    "    zone,sfrac1[i],albedo1[i],Tlat[i] = file2.readline().split()\n",
    "    Tlat1[i]  = Tlat1[i] + 273.14\n",
    "file2.close()\n",
    "\n",
    "# This function calculates T global\n",
    "Tgg1 = 0.0\n",
    "def Calculate_Tglobal1(Temp,Tgg,ni):\n",
    "    Lat = np.zeros(ni)\n",
    "    wgt = np.zeros(ni)\n",
    "    Tgg = 0.0\n",
    "    swg = 0\n",
    "    cni= ni\n",
    "    pi= 3.141592\n",
    "    for i in range(ni):\n",
    "        Lat[i] = -85 + (i-1)*10\n",
    "        wgt[i] = math.cos(abs(Lat[i])*pi/180.)\n",
    "        swg   = swg + wgt[i] \n",
    "        Tgg = Tgg + Temp[i]*wgt[i]\n",
    "    Tgg = Tgg/swg\n",
    "    return Tgg\n",
    "\n",
    "TG1 = [] # This list will store T global for ploting later\n",
    "TL1 = [] # This list will store T lat at equilibrium for ploting later\n",
    "Time1 = [] # This list will store  the time for T global plot\n",
    "\n",
    "for j in range(500):\n",
    "    Tg1 = Calculate_Tglobal1(Tlat1,Tgg1,18)\n",
    "    for i in range(18):\n",
    "        Rin1     = sfrac1[i]*SR*(1-albedo1[i])  # Incoming Energy\n",
    "        Rout1    = 4.0*ems*sigma*Tlat1[i]**4   # Outgoing Enegy\n",
    "        Trans1   = tc1*(Tlat1[i] - Tg1)          # Energy Flux\n",
    "        Fn1      = (Rin1 - Rout1 - Trans1)/thc   # Tendency\n",
    "        Tf1      = Tlat1[i] + Fn1*dt               \n",
    "        Tlat1[i] = Tf1\n",
    "        if(j==499):\n",
    "            TL1.append(Tlat1[i]-273.14)\n",
    "    TG1.append(Tg1-273.14)\n",
    "    Time1.append(j*dt)\n",
    "\n",
    "\n",
    "plt.plot(Time,TG1,\"red\") ## When  Transport constants equal 2\n",
    "plt.plot(Time,TG,\"blue\")## When  Transport constants equal 3.8\n",
    "plt.show()\n"
   ]
  },
  {
   "cell_type": "markdown",
   "id": "25e6247c",
   "metadata": {},
   "source": [
    " When  Transport  decrase that leads to decrase in equilibrium temperature that means by decrease Transport   earth is cooling \n",
    "and by increase decrease Transport earth is warming"
   ]
  },
  {
   "cell_type": "code",
   "execution_count": 6,
   "id": "2b49f65f",
   "metadata": {},
   "outputs": [
    {
     "data": {
      "image/png": "[encoded data removed]",
      "text/plain": [
       "<Figure size 432x288 with 1 Axes>"
      ]
     },
     "metadata": {
      "needs_background": "light"
     },
     "output_type": "display_data"
    }
   ],
   "source": [
    "#### another way (by use for loop)\n",
    "\n",
    "\n",
    "sfrac2  = np.zeros(18)\n",
    "albedo2 = np.zeros(18)\n",
    "Tlat2   = np.zeros(18)\n",
    "\n",
    "# Read inputs from file zone.dat\n",
    "file3 = open(\"zone.dat\",\"r\")\n",
    "file3.readline()\n",
    "\n",
    "for i in range(18):\n",
    "    zone,sfrac2[i],albedo2[i],Tlat2[i] = file3.readline().split()\n",
    "    Tlat2[i]  = Tlat2[i] + 273.14\n",
    "file3.close()\n",
    "\n",
    "# This function calculates T global\n",
    "Tgg2 = 0.0\n",
    "def Calculate_Tglobal2(Temp,Tgg,ni):\n",
    "    Lat = np.zeros(ni)\n",
    "    wgt = np.zeros(ni)\n",
    "    Tgg = 0.0\n",
    "    swg = 0\n",
    "    cni= ni\n",
    "    pi= 3.141592\n",
    "    for i in range(ni):\n",
    "        Lat[i] = -85 + (i-1)*10\n",
    "        wgt[i] = math.cos(abs(Lat[i])*pi/180.)\n",
    "        swg   = swg + wgt[i] \n",
    "        Tgg = Tgg + Temp[i]*wgt[i]\n",
    "    Tgg = Tgg/swg\n",
    "    return Tgg\n",
    "\n",
    "TG2 = [] # This list will store T global for ploting later\n",
    "TL2 = [] # This list will store T lat at equilibrium for ploting later\n",
    "Time3 = [] # This list will store  the time for T global plot\n",
    "for tc2 in range(1,10,2): # diffrent value of tc\n",
    "    for j in range(500):\n",
    "        Tg2 = Calculate_Tglobal2(Tlat2,Tgg2,18)\n",
    "        for i in range(18):\n",
    "            Rin2    = sfrac2[i]*SR*(1-albedo2[i])  # Incoming Energy\n",
    "            Rout2   = 4.0*ems*sigma*Tlat2[i]**4   # Outgoing Enegy\n",
    "            Trans2   = tc2*(Tlat2[i] - Tg2)          # Energy Flux\n",
    "            Fn2      = (Rin2 - Rout2 - Trans2)/thc   # Tendency\n",
    "            Tf2     = Tlat2[i] + Fn2*dt               \n",
    "            Tlat2[i] = Tf2\n",
    "            if(j==499):\n",
    "                TL2.append(Tlat2[i]-273.14)\n",
    "        TG2.append(Tg2-273.14)\n",
    "        Time3.append(j*dt)\n",
    "\n",
    "\n",
    "\n",
    "#plt.plot(Time,TG1,\"red\"),plt.plot(Time,TG1,\"green\")\n",
    "    plt.plot(Time3,TG2)\n",
    "plt.show()\n"
   ]
  },
  {
   "cell_type": "markdown",
   "id": "098576d7",
   "metadata": {},
   "source": [
    " ## 2\n",
    " #### limitations of using this model for climate change study\n",
    " \n",
    " 1-these model assume idealized balance between income energy and outcome which is not what happen in real world\n",
    "\n",
    "2- in these modal  there is one value of Temperature for any latitude in climet's system regardless of longtitude and that is not realistic in climate's system\n",
    "\n",
    "3 - inability to reproduce important atmospheric phenomena\n",
    "\n",
    "4-in these model all the  earth((ocien and land)   have the same heat capacity which is not relastic "
   ]
  },
  {
   "cell_type": "markdown",
   "id": "5f184aea",
   "metadata": {},
   "source": [
    "## References\n",
    "\n",
    "\n",
    "Lecture Notes\n"
   ]
  }
 ],
 "metadata": {
  "kernelspec": {
   "display_name": "Python 3",
   "language": "python",
   "name": "python3"
  },
  "language_info": {
   "codemirror_mode": {
    "name": "ipython",
    "version": 3
   },
   "file_extension": ".py",
   "mimetype": "text/x-python",
   "name": "python",
   "nbconvert_exporter": "python",
   "pygments_lexer": "ipython3",
   "version": "3.8.8"
  }
 },
 "nbformat": 4,
 "nbformat_minor": 5
}
